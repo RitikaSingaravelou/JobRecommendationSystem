{
 "cells": [
  {
   "cell_type": "code",
   "execution_count": 1,
   "metadata": {},
   "outputs": [],
   "source": [
    "import numpy as np \n",
    "import pandas as pd \n",
    "import warnings\n",
    "warnings.filterwarnings('ignore')\n",
    "from scipy import spatial\n",
    "import os\n",
    "from numpy import array\n"
   ]
  },
  {
   "cell_type": "code",
   "execution_count": 2,
   "metadata": {},
   "outputs": [],
   "source": [
    "def cosine_similarity(arr1,arr2):\n",
    "    ans=1- spatial.distance.cosine(arr1,arr2)\n",
    "    if(np.isnan(ans)):\n",
    "        return 0\n",
    "    else:\n",
    "        return ans"
   ]
  },
  {
   "cell_type": "code",
   "execution_count": 3,
   "metadata": {},
   "outputs": [],
   "source": [
    " def match_profile(user_id,threshval):\n",
    "    input_path=\"./data/\"\n",
    "       \n",
    "    \n",
    "    df=pd.read_csv(input_path+\"domain_userprofile.csv\",index_col='Respondent')\n",
    "    matches=dict()\n",
    "        \n",
    "    if(user_id in df.index):\n",
    "        userdomain=df.loc[user_id,:]       \n",
    "        df=pd.read_csv(input_path+\"languages_profileuser.csv\",index_col='Respondent')\n",
    "        userlanguages=df.loc[user_id,:]\n",
    "        df=pd.read_csv(input_path+\"frameworks_profileuser.csv\",index_col='Respondent')\n",
    "        userframeworks=df.loc[user_id,:]\n",
    "        df=pd.read_csv(input_path+\"platforms_profileuser.csv\",index_col='Respondent')\n",
    "        userplatforms=df.loc[user_id,:]\n",
    "        df=pd.read_csv(input_path+\"databases_profileuser.csv\",index_col='Respondent')\n",
    "        userdatabases=df.loc[user_id,:]\n",
    "        userdomain=np.asarray(userdomain.fillna(0))\n",
    "        userlanguages=np.asarray(userlanguages.fillna(0))\n",
    "        userframeworks=np.asarray(userframeworks.fillna(0))\n",
    "        userplatforms=np.asarray(userplatforms.fillna(0))\n",
    "        userdatabases=np.asarray(userdatabases.fillna(0))\n",
    "        jobdomain=pd.read_csv(input_path+\"domain_jobprofile.csv\",index_col='uniq_id')\n",
    "        joblanguages=pd.read_csv(input_path+'languages_profilejob.csv',index_col='uniq_id')\n",
    "        jobframeworks=pd.read_csv(input_path+'frameworks_profilejob.csv',index_col='uniq_id')\n",
    "        jobplatforms=pd.read_csv(input_path+'platforms_profilejob.csv',index_col='uniq_id')\n",
    "        jobdatabases=pd.read_csv(input_path+'databases_profilejob.csv',index_col='uniq_id')\n",
    "        for i in jobdomain.index:\n",
    "            try:\n",
    "                domain=jobdomain.loc[i,:].fillna(0)\n",
    "                language=joblanguages.loc[i,:].fillna(0)\n",
    "                framework=jobframeworks.loc[i,:].fillna(0)\n",
    "                platform=jobplatforms.loc[i,:].fillna(0)\n",
    "                database=jobdatabases.loc[i,:].fillna(0)\n",
    "                job_id=str(i)\n",
    "                domain=np.asarray(domain)\n",
    "                language=np.asarray(language)\n",
    "                framework=np.asarray(framework)\n",
    "                platform=np.asarray(platform)\n",
    "                database=np.asarray(database)\n",
    "                score=(0.6*cosine_similarity(domain,userdomain))+(0.4*(cosine_similarity(language,userlanguages)+cosine_similarity(framework,userframeworks)+cosine_similarity(platform,userplatforms)+cosine_similarity(database,userdatabases)))\n",
    "                matches[job_id]=score\n",
    "            except KeyError:\n",
    "                pass\n",
    "        matches=dict(sorted(matches.items(),key=lambda x:x[1],reverse=True))\n",
    "        print(len(matches))\n",
    "        maxscore=list(matches.values())[0]\n",
    "        print(maxscore)\n",
    "        threshscore=threshval*maxscore\n",
    "        print(\"Threshold Value = \"+str(threshval))\n",
    "        print(\"Threshold Score = \"+str(threshscore))\n",
    "        truepositive=dict((k,v) for k,v in matches.items() if v>=threshscore and v>0.0)\n",
    "        falsepositive=dict((k,v) for k,v in matches.items() if v<threshscore and v>0.0)\n",
    "        truenegative=dict((k,v) for k,v in matches.items() if v==0.0)\n",
    "        tp=len(truepositive)\n",
    "        fp=len(falsepositive)\n",
    "        tn=len(truenegative)\n",
    "        tot=len(matches)\n",
    "        print(\"TP=\"+str(tp))\n",
    "        print(\"FP=\"+str(fp))\n",
    "        print(\"TN=\"+str(tn))\n",
    "        print(\"FN=\"+str(0))\n",
    "        print(\"tot=\"+str(tot))\n",
    "        precision=tp/(tp+fp)\n",
    "        f1score=2*(precision)/(precision+1)\n",
    "        print(\"Precision = \"+str(precision))\n",
    "        print(\"F1 Score = \"+str(f1score))\n",
    "                \n",
    "            "
   ]
  },
  {
   "cell_type": "code",
   "execution_count": 4,
   "metadata": {},
   "outputs": [
    {
     "name": "stdout",
     "output_type": "stream",
     "text": [
      "21983\n",
      "0.5314217805280865\n",
      "Threshold Value = 0.3\n",
      "Threshold Score = 0.15942653415842595\n",
      "TP=3768\n",
      "FP=3427\n",
      "TN=14788\n",
      "FN=0\n",
      "tot=21983\n",
      "Precision = 0.5236970118137596\n",
      "F1 Score = 0.6874030830976923\n"
     ]
    }
   ],
   "source": [
    "match_profile(18,0.3)"
   ]
  },
  {
   "cell_type": "code",
   "execution_count": 5,
   "metadata": {},
   "outputs": [
    {
     "name": "stdout",
     "output_type": "stream",
     "text": [
      "21983\n",
      "0.8224141873119508\n",
      "Threshold Value = 0.3\n",
      "Threshold Score = 0.24672425619358523\n",
      "TP=5173\n",
      "FP=8991\n",
      "TN=7819\n",
      "FN=0\n",
      "tot=21983\n",
      "Precision = 0.3652216887884778\n",
      "F1 Score = 0.5350364586026788\n"
     ]
    }
   ],
   "source": [
    "match_profile(7,0.3)"
   ]
  },
  {
   "cell_type": "code",
   "execution_count": 6,
   "metadata": {},
   "outputs": [
    {
     "name": "stdout",
     "output_type": "stream",
     "text": [
      "21983\n",
      "0.7333333333333334\n",
      "Threshold Value = 0.3\n",
      "Threshold Score = 0.22\n",
      "TP=2062\n",
      "FP=5972\n",
      "TN=13949\n",
      "FN=0\n",
      "tot=21983\n",
      "Precision = 0.2566591984067712\n",
      "F1 Score = 0.4084786053882726\n"
     ]
    }
   ],
   "source": [
    "match_profile(12,0.3)"
   ]
  },
  {
   "cell_type": "code",
   "execution_count": 7,
   "metadata": {},
   "outputs": [
    {
     "name": "stdout",
     "output_type": "stream",
     "text": [
      "21983\n",
      "0.5314217805280865\n",
      "Threshold Value = 0.3\n",
      "Threshold Score = 0.15942653415842595\n",
      "TP=3768\n",
      "FP=3427\n",
      "TN=14788\n",
      "FN=0\n",
      "tot=21983\n",
      "Precision = 0.5236970118137596\n",
      "F1 Score = 0.6874030830976923\n"
     ]
    }
   ],
   "source": [
    "match_profile(34,0.3)"
   ]
  },
  {
   "cell_type": "code",
   "execution_count": 8,
   "metadata": {},
   "outputs": [
    {
     "name": "stdout",
     "output_type": "stream",
     "text": [
      "21983\n",
      "0.9265986323710904\n",
      "Threshold Value = 0.3\n",
      "Threshold Score = 0.27797958971132714\n",
      "TP=2076\n",
      "FP=6519\n",
      "TN=13388\n",
      "FN=0\n",
      "tot=21983\n",
      "Precision = 0.24153577661431064\n",
      "F1 Score = 0.3890919314028676\n"
     ]
    }
   ],
   "source": [
    "match_profile(27,0.3)\n"
   ]
  },
  {
   "cell_type": "code",
   "execution_count": null,
   "metadata": {},
   "outputs": [],
   "source": []
  }
 ],
 "metadata": {
  "kernelspec": {
   "display_name": "Python 3",
   "language": "python",
   "name": "python3"
  },
  "language_info": {
   "codemirror_mode": {
    "name": "ipython",
    "version": 3
   },
   "file_extension": ".py",
   "mimetype": "text/x-python",
   "name": "python",
   "nbconvert_exporter": "python",
   "pygments_lexer": "ipython3",
   "version": "3.8.5"
  }
 },
 "nbformat": 4,
 "nbformat_minor": 4
}
